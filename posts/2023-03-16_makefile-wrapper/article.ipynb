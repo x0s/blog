{
 "cells": [
  {
   "cell_type": "raw",
   "id": "21c94643-962f-4430-afe5-aa1a6b3f1fc4",
   "metadata": {},
   "source": [
    "---\n",
    "title: \"How to fluently forward Makefile's targets to a Docker container ?\"\n",
    "author: \"x0s\"\n",
    "date: \"2023-03-16\"\n",
    "categories: [cli, makefile, bash, docker, container]\n",
    "#format: html\n",
    "#highlight-style: arrow-light\n",
    "---"
   ]
  },
  {
   "cell_type": "markdown",
   "id": "75059281-addb-4065-a57b-b4e35dea2993",
   "metadata": {},
   "source": [
    "## What is it about ?"
   ]
  },
  {
   "cell_type": "markdown",
   "id": "15df8d53-e80d-40e2-8e57-08803de59cb3",
   "metadata": {},
   "source": [
    "We will see how to painlessly redirect makefile's targets to a docker container keeping the API intuitive.\n",
    "\n",
    "What you will learn:\n",
    "\n",
    "- How to automatically read a Makefile's targets from another Makefile\n",
    "- How to wrap Makefile targets to a docker container\n",
    "- How to extract and pass Makefile arguments to another Makefile"
   ]
  },
  {
   "cell_type": "markdown",
   "id": "9745ad7b-b5d5-4a59-a552-bfec8a4d7d39",
   "metadata": {
    "tags": []
   },
   "source": [
    "## Introducing a use case"
   ]
  },
  {
   "cell_type": "markdown",
   "id": "52da3ceb-24c5-426b-8131-fcd177ae8632",
   "metadata": {},
   "source": [
    "Let's say we've already built an application using `Makefile` to run tasks (ie: run tests, build a docker image, launch scripts).\n",
    "As good practice we developed it within an virtual environment (ie: conda) and it worked perfectly...\n",
    "until one day... as the application grew, it had to deal with different versions of python, compiler dependencies... things that a conda environment cannot handle alone.\n",
    "So we decided to wrap your app in a container. \n",
    "\n",
    "To sum up, from being able to do:\n",
    "```{bash}\n",
    "(my_env) $ make test\n",
    "(my_env) $ make game WHEN=2022/01-2\n",
    "```\n",
    "we also want to be able to do:\n",
    "```{bash}\n",
    "(my_env) $ make_in_container test\n",
    "(my_env) $ make_in_container game WHEN=2022/01-2\n",
    "```\n",
    "\n",
    "Why choosing `make_in_container` ?\n",
    "\n",
    "- We don't want to duplicate Makefiles nor the targets ([DRY](https://en.wikipedia.org/wiki/Don%27t_repeat_yourself))\n",
    "\n",
    "- We favour clarity, avoiding mingling arguments, prefering `make_in_container test_this DAY=2022/01`{.bash} to `make test_this SKIP_CONTAINER=false DAY=2022/01`{.bash}. Also with this option we would have to manually prefix every command of the original `Makefile` \n",
    "\n",
    "- We also favour extensibility, what if later we want to switch from `Docker` to `Podman` ? `make_in_container` looks better than `make_in_docker`\n"
   ]
  },
  {
   "cell_type": "markdown",
   "id": "eb909d96-e8d1-4067-a3c3-cfe29c13230b",
   "metadata": {},
   "source": [
    "To illustrate this, we will use the [git repository](https://github.com/x0s/advent-of-code) I worked on to do the famous [Advent Of Code](https://adventofcode.com/) !\n",
    "So we have this tree structure:"
   ]
  },
  {
   "cell_type": "markdown",
   "id": "20b94faf-e23c-4d4e-9e97-0e9efd8c8de4",
   "metadata": {},
   "source": [
    "```\n",
    "Advent-Of-Code\n",
    "├── Dockerfile\n",
    "├── Makefile\n",
    "├── Makefile_docker\n",
    "├── advent_of_code/\n",
    "├── tests/\n",
    "| ...\n",
    "```"
   ]
  },
  {
   "cell_type": "markdown",
   "id": "a52a715b-8201-47d5-8c80-7f26bfc65b4b",
   "metadata": {},
   "source": [
    "There are two makefiles:\n",
    "\n",
    "- a [Makefile](https://github.com/x0s/advent-of-code/blob/main/Makefile) having the project usual targets (`install`,`build`, `test` ...)\n",
    "\n",
    "- a [Makefile_docker](https://github.com/x0s/advent-of-code/blob/main/Makefile_docker) aiming at forwarding the targets to a docker container."
   ]
  },
  {
   "cell_type": "markdown",
   "id": "c50d4e6a-7cf4-4daa-a911-82d18dd2b263",
   "metadata": {},
   "source": [
    "The workflow is the following:\n",
    "\n",
    "```{bash}\n",
    "# Install the application following the guidelines\n",
    "# - Create conda environment\n",
    "# - make install\n",
    "# - ...\n",
    "\n",
    "# Build the docker image\n",
    "(my_env) $ make build\n",
    "\n",
    "# Run some tasks in container\n",
    "(my_env) $ make_in_container test_this DAY=2022/01\n",
    "```\n",
    "\n",
    "Once the image is built, a user should be able to run any task within the container as soon as the conda environment is active. We'll see in next sessions how to settle this."
   ]
  },
  {
   "cell_type": "markdown",
   "id": "212bc534-bc27-4fa7-a8c0-6b910d2b178e",
   "metadata": {},
   "source": [
    "## Aliasing `make_in_container`"
   ]
  },
  {
   "cell_type": "markdown",
   "id": "02b72e32-c988-4f06-8802-077fb68d0c2c",
   "metadata": {},
   "source": [
    "To avoid polluting system namespace (sourcing ` ~/.bashrc`), we want to enable the `make_in_container` command only when working in this project. Enabling it when we activate the conda environment seems the right moment. Let's configure it at building time:"
   ]
  },
  {
   "cell_type": "code",
   "execution_count": null,
   "id": "a9f6ea02-0ac9-4644-b7f7-c9b4be10d15a",
   "metadata": {},
   "outputs": [],
   "source": [
    "#| eval: false\n",
    "# from Makefile\n",
    "build:\n",
    "\t@docker build --tag aoc-image -f Dockerfile .\n",
    "# make \"make_in_container\" command available when conda env is activated\n",
    "ifdef CONDA_PREFIX\n",
    "\t@$(eval PATH_ALIAS := ${CONDA_PREFIX}/etc/conda/activate.d/aliases_.sh)\n",
    "\t@mkdir -p ${CONDA_PREFIX}/etc/conda/activate.d\n",
    "\t@echo \"#!/bin/bash\" >> $(PATH_ALIAS)\n",
    "\t@echo \"alias make_in_container='make -f Makefile_docker'\" >> $(PATH_ALIAS)\n",
    "\t@source $(PATH_ALIAS)\n",
    "endif"
   ]
  },
  {
   "cell_type": "markdown",
   "id": "9c9bc0b6-ce5c-46d0-8a66-8ee709eb10a8",
   "metadata": {},
   "source": [
    "First, we build and image named `aoc-image` using `Dockerfile`. \n",
    "Then if a conda environment is active (and it should!), we write a little script this conda env will execute every time it is activated.\n",
    "Therefore `make_in_container` will redirect to using Makefile_docker as a makefile:"
   ]
  },
  {
   "cell_type": "code",
   "execution_count": null,
   "id": "352f609f-fe7d-4e3e-8de4-8a1c5a6fc566",
   "metadata": {},
   "outputs": [],
   "source": [
    "#!/bin/bash\n",
    "alias make_in_container='make -f Makefile_docker'"
   ]
  },
  {
   "cell_type": "markdown",
   "id": "e15a985c-d7c7-492f-a388-c7c5804d505d",
   "metadata": {},
   "source": [
    "Of course, you can adapt this code to make it work with other environment manager ([Virtualenvwrapper hooks](https://virtualenvwrapper.readthedocs.io/en/latest/scripts.html#scripts) for instance)."
   ]
  },
  {
   "cell_type": "markdown",
   "id": "e98ceb1f-fe9a-4e99-bbfe-33de56b6fd4f",
   "metadata": {},
   "source": [
    "## How to retrieve all targets ?"
   ]
  },
  {
   "cell_type": "markdown",
   "id": "8479b389-4b7d-4b30-bb9a-a6b81f63a9a9",
   "metadata": {},
   "source": [
    "Here we want to automatically forward targets to the docker container. First we retrieve the targets from `Makefile` using a snippet heavily inspired from [StackOverflow](https://stackoverflow.com/a/26339924/3581903). We can see the result by invoking `make_in_container list-targets`."
   ]
  },
  {
   "cell_type": "code",
   "execution_count": null,
   "id": "f3bcba83-9294-4b66-96ee-80e44b8ae57d",
   "metadata": {},
   "outputs": [],
   "source": [
    "#| eval: false\n",
    "# from Makefile_docker\n",
    "\n",
    "# Tag of docker image\n",
    "NAME := aoc-image\n",
    "\n",
    "# Retrieve the AOC targets from main Makefile\n",
    "# inspired from https://stackoverflow.com/a/26339924/3581903\n",
    "AOC_TARGETS := $(shell LC_ALL=C make -pRrq -f Makefile : 2>/dev/null \\\n",
    "\t\t| awk -v RS= -F: '/(^|\\n)\\# Files(\\n|$$)/,/(^|\\n)\\# Finished Make data base/ {if ($$1 !~ \"^[\\#.]\") {print $$1}}' \\\n",
    "\t\t| sort | egrep -v -e '^[^[:alnum:]]' -e '^$@$$' \\\n",
    "\t\t| xargs | tr -d :)\n",
    "\n",
    ".PHONY : $(AOC_TARGETS) list_targets\n",
    "\n",
    "# Forward any AOC_TARGET to the container\n",
    "$(AOC_TARGETS):\n",
    "\t@docker run -it ${NAME} make $@\n",
    "\n",
    "list-targets:\n",
    "\t@echo $(AOC_TARGETS)"
   ]
  },
  {
   "cell_type": "markdown",
   "id": "13ce5bfb-871b-4f6f-afd1-ce96e221687e",
   "metadata": {},
   "source": [
    "With this setting, calls like `make_in_container help` or `make_in_container test` properly forward `make help` and `make test` in the container.\n",
    "But what about `make_in_container test_this DAY=2022/01` ? For now it only forwards `make_in_container test_this`. Let's see how to pass all arguments to the container."
   ]
  },
  {
   "cell_type": "markdown",
   "id": "fa2b7b79-7219-423e-8e76-8a39cf7bd58b",
   "metadata": {},
   "source": [
    "## How to pass all arguments ?"
   ]
  },
  {
   "cell_type": "markdown",
   "id": "becfbe7f-691f-449a-a400-24b91d644b94",
   "metadata": {},
   "source": [
    "As per [the manual](https://www.gnu.org/software/make/manual/html_node/Automatic-Variables.html), `$@` only keeps the target name. Calling `make_in_container test_this DAY=2022/01` will set `$@` to `test_this` and `DAY` to `2022/01`.\n",
    "To retrieve the argument, we have to check the environment variables. Here we will store the arguments' names in `AOC_ARGS` (it is possible to retrieve it automatically with regexp on the Makefile help, but it would add unecessary complexity here).\n",
    "\n",
    "For each argument, `get_args` will check if an environment variable is set (like `DAY` to `2022/01`), and when it is, will return the string `DAY=2022/01`."
   ]
  },
  {
   "cell_type": "code",
   "execution_count": null,
   "id": "481a7360-dc53-4720-b310-4faad0431064",
   "metadata": {},
   "outputs": [],
   "source": [
    "#| eval: false\n",
    "# Extract valid arguments and pass them with their value\n",
    "# ie: calling \"make_in_container game WHEN=2022/01-1\" will result in passing \"WHEN=2022/01-1\"\n",
    "get_args = $(foreach arg,$(AOC_ARGS),$(if $(value $(arg)),$(arg)=$($(arg))))\n",
    "\n",
    "# Arguments to be passed to targets accordin to main Makefile\n",
    "AOC_ARGS = EDIT TOKEN WHEN VERBOSE DAY"
   ]
  },
  {
   "cell_type": "markdown",
   "id": "bd98bdc2-0d51-45ed-8fa0-cbdd8667c914",
   "metadata": {},
   "source": [
    "Therefore, we update the redirection so it can forward the arguments to the container. `make_in_container test_this DAY=2022/01` will be forwarded as `make test_this DAY=2022/01`."
   ]
  },
  {
   "cell_type": "code",
   "execution_count": null,
   "id": "44185b42-3f21-4e96-9f7e-05d3d0b65631",
   "metadata": {},
   "outputs": [],
   "source": [
    "#| eval: false\n",
    "# Forward any AOC_TARGET to the container\t\n",
    "# ie: \"make_in_container test VERBOSE=1\" is run as \"make test VERBOSE=1\" in the container\n",
    "$(AOC_TARGETS):\n",
    "\t@docker run -it ${NAME} make $@ $(call get_args)"
   ]
  },
  {
   "cell_type": "markdown",
   "id": "49706eaf-1d5e-4bfb-812f-12303872435d",
   "metadata": {},
   "source": [
    "You can reach the full source [here](https://github.com/x0s/advent-of-code/blob/main/Makefile_docker)."
   ]
  },
  {
   "cell_type": "markdown",
   "id": "bf43dc8b-a03b-4d2a-bab3-8e7550f61f35",
   "metadata": {
    "tags": []
   },
   "source": [
    "## Conclusion"
   ]
  },
  {
   "cell_type": "markdown",
   "id": "a422ca92-a429-4d6c-aee1-8fbc08377cb3",
   "metadata": {},
   "source": [
    "We've seen how to wrap all makefile targets so they can be forwarded to a container without changing the API: Everything that was runnable with `make ...` is now also runnable in a container with `make_in_container ...`."
   ]
  },
  {
   "cell_type": "code",
   "execution_count": null,
   "id": "aaab2ca8-73c2-43a3-9181-029f9b900e63",
   "metadata": {},
   "outputs": [],
   "source": []
  }
 ],
 "metadata": {
  "kernelspec": {
   "display_name": "Bash",
   "language": "bash",
   "name": "bash"
  },
  "language_info": {
   "codemirror_mode": "shell",
   "file_extension": ".sh",
   "mimetype": "text/x-sh",
   "name": "bash"
  }
 },
 "nbformat": 4,
 "nbformat_minor": 5
}
