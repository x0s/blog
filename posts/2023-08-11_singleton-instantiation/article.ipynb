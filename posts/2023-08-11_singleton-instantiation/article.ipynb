{
 "cells": [
  {
   "cell_type": "markdown",
   "metadata": {},
   "source": [
    "---\n",
    "title: \"Dive into the Singleton as an excuse to study Instantiation in Python\"\n",
    "author: \"x0s\"\n",
    "date: \"2023-08-11\"\n",
    "categories: [python, design pattern, metaclasses, multithreading]\n",
    "#format: html\n",
    "#highlight-style: arrow-light\n",
    "---"
   ]
  },
  {
   "cell_type": "markdown",
   "metadata": {},
   "source": [
    "# Dive into the Singleton as an excuse to study Instantiation in Python"
   ]
  },
  {
   "cell_type": "markdown",
   "metadata": {},
   "source": [
    "## What is it about ?\n",
    "\n",
    "In this post, we will construct and deconstruct the Singleton Pattern in order to hone our understanding of _object instantiation_ in Python (through Inheritance, Metaprogramming and Multithreading).\n",
    "\n",
    "From [Wikipedia](https://en.wikipedia.org/wiki/Singleton_pattern): _In software engineering, the **singleton pattern** is a software design pattern that restricts the instantiation of a class to a singular instance._\n",
    "\n",
    "As an example, we will _try_ to define as a singleton a class named `Logger` representing a logging component for an application. \n",
    "As we usually want a logger to be a global ressource for documenting what an application is actually processing.\n",
    "\n",
    "We will make successive attempts to build such a singleton. On this journey, we will encounter(and tackle) various problems, giving us an opportunity to review instantiation mechanics in Python. Here is a summary on the methods/challenges we will cover :\n",
    "\n",
    "- Attempt 1: Inheritance Overriding\n",
    "- Attempt 2: Metaclass Calling\n",
    "- Attempt 3: Multithreads Racing\n",
    "- Attempt 4: Multithreads Deadlocking\n",
    "\n",
    "Before attempting, let's write a helper function to check if an object is a singleton or not:"
   ]
  },
  {
   "cell_type": "code",
   "execution_count": 64,
   "metadata": {},
   "outputs": [],
   "source": [
    "def is_singleton(cls: type) -> None:\n",
    "    print(f\"{cls.__name__} {'is' if cls() is cls() else 'is not'} a Singleton\")"
   ]
  },
  {
   "cell_type": "markdown",
   "metadata": {},
   "source": [
    "## Attempt 1: Inheritance Overriding\n",
    "\n",
    "We define the Singleton as a **base class** and control instanciation through its `__new__` method.\n",
    "The classes we want to make unique will then inherit from it.\n",
    "\n",
    "In Python, the static `__new__` method is responsible for object creation. It seems a good place to force any instanciation to return a unique object. Note that the object returned by `__new__` is the one passed to `__init__` as `self`. Let's try:"
   ]
  },
  {
   "cell_type": "code",
   "execution_count": 65,
   "metadata": {},
   "outputs": [
    {
     "name": "stdout",
     "output_type": "stream",
     "text": [
      "Logger is a Singleton\n"
     ]
    }
   ],
   "source": [
    "class Singleton:\n",
    "    _instance = None\n",
    "\n",
    "    def __new__(cls, *args, **kwargs):\n",
    "        # If the instance being created(cls) is not already created and cached (cls._instance)\n",
    "        if not isinstance(cls._instance, cls):\n",
    "            cls._instance = super().__new__(cls, *args, **kwargs)\n",
    "        return cls._instance        \n",
    "\n",
    "class Logger(Singleton): pass\n",
    "\n",
    "# Let's verify a singleton is generated\n",
    "is_singleton(Logger)"
   ]
  },
  {
   "cell_type": "markdown",
   "metadata": {},
   "source": [
    "It seems to work, but we may encounter some difficulties that may break the singleton:\n",
    "\n",
    "- Risk 1: Reversing Bases\n",
    "   - Python's Method Resolution Order operates from left to right, Child classes have to first inherit from Singleton to benefit from its `__new__` method: `class Logger(Singleton, LoggerBase)`.\n",
    "Reversing order may neutralize the Singleton (if LoggerBase defines its own `__new__` method)\n",
    "- Risk 2: Overriding `__new__`\n",
    "   - If a child class overrides its `__new__` method, it redefines instanciation and may produce non-singleton objects\n",
    "\n",
    "Let's see:"
   ]
  },
  {
   "cell_type": "code",
   "execution_count": 66,
   "metadata": {},
   "outputs": [
    {
     "name": "stdout",
     "output_type": "stream",
     "text": [
      "Logger is a Singleton\n",
      "LoggerReversed is not a Singleton\n",
      "LoggerChild is not a Singleton\n"
     ]
    }
   ],
   "source": [
    "class LoggerBase: \n",
    "    def __new__(cls, *args, **kwargs):\n",
    "        # Overriding instance creation method __new__\n",
    "        return object.__new__(cls, *args, **kwargs)\n",
    "\n",
    "class Logger(Singleton, LoggerBase): pass\n",
    "\n",
    "# Risk 1: Reversing Bases\n",
    "class LoggerReversed(LoggerBase, Singleton): pass\n",
    "\n",
    "# Risk 2: Overriding __new__\n",
    "class LoggerChild(Logger):\n",
    "    def __new__(cls, *args, **kwargs):\n",
    "        return object.__new__(cls, *args, **kwargs)\n",
    "\n",
    "for LoggerClass in (Logger, LoggerReversed, LoggerChild):\n",
    "    is_singleton(LoggerClass)"
   ]
  },
  {
   "cell_type": "markdown",
   "metadata": {},
   "source": [
    "It is a bit annoying that our Singleton can be broken so easily. But in Python, **Metaclasses** are responsible for Class creation(like class of a class). We will see in next attempt how to use metaclasses to control instantiation upstream to inheritance."
   ]
  },
  {
   "cell_type": "markdown",
   "metadata": {},
   "source": [
    "## Attempt 2: Metaclass Calling"
   ]
  },
  {
   "cell_type": "markdown",
   "metadata": {},
   "source": [
    "By default the `type` Metaclass is responsible for class creation. When we instantiate a new object, the Metaclass' `__call__` method is in fact called before the Class' `__new__` method ! Here is the proof:"
   ]
  },
  {
   "cell_type": "code",
   "execution_count": 74,
   "metadata": {},
   "outputs": [
    {
     "name": "stdout",
     "output_type": "stream",
     "text": [
      "In MetaTest.__call__\n",
      "In Test.__new__\n",
      "In Test.__init__\n"
     ]
    }
   ],
   "source": [
    "class MetaTest(type):\n",
    "    def __call__(cls, *args, **kwargs):\n",
    "        print(\"In MetaTest.__call__\")\n",
    "        return super().__call__(*args, **kwargs)\n",
    "\n",
    "class Test(metaclass=MetaTest):\n",
    "    def __new__(cls, *args, **kwargs):\n",
    "        print(\"In Test.__new__\")\n",
    "        return super().__new__(cls, *args, **kwargs)\n",
    "    \n",
    "    def __init__(self, *args, **kwargs):\n",
    "        print(\"In Test.__init__\")\n",
    "\n",
    "_ = Test()"
   ]
  },
  {
   "cell_type": "markdown",
   "metadata": {},
   "source": [
    "The built-in `type.__call__` (line 4),  is in charge of:\n",
    "\n",
    "- calling `Test.__new__` to create a Test object (allocating memory for it)\n",
    "- calling `Test.__init__` to initialize the newly created object only if \n",
    "   - `Test.__new__` has previously returned an object of type `Test` and\n",
    "   - `Test.__init__` is defined\n",
    "\n",
    "Then, it seems a good choice to control instantiation from within the Metaclass `__call__` to enforce the singleton and neutralize any child overriding. Let's try:"
   ]
  },
  {
   "cell_type": "code",
   "execution_count": 75,
   "metadata": {},
   "outputs": [
    {
     "name": "stdout",
     "output_type": "stream",
     "text": [
      "Logger is a Singleton\n",
      "LoggerChild is a Singleton\n"
     ]
    }
   ],
   "source": [
    "class Singleton(type):\n",
    "    _instances = {}\n",
    "\n",
    "    def __call__(cls, *args, **kwargs):\n",
    "        if cls not in cls._instances:\n",
    "            cls._instances[cls] = super().__call__(*args, **kwargs)\n",
    "        return cls._instances[cls]\n",
    "\n",
    "class LoggerBase: \n",
    "    def __new__(cls, *args, **kwargs):\n",
    "        # Overriding instance creation method __new__\n",
    "        return object.__new__(cls, *args, **kwargs)\n",
    "\n",
    "class Logger(LoggerBase, metaclass=Singleton): pass\n",
    "\n",
    "# Overriding __new__ as before\n",
    "class LoggerChild(Logger):\n",
    "    def __new__(cls, *args, **kwargs):\n",
    "        return object.__new__(cls, *args, **kwargs)\n",
    "\n",
    "is_singleton(Logger)\n",
    "is_singleton(LoggerChild)\n"
   ]
  },
  {
   "cell_type": "markdown",
   "metadata": {},
   "source": [
    "So far, so good. Finally, we found a solution that works on a single thread, but what would happen if we instantiate the Logger on multiple Threads ?"
   ]
  },
  {
   "cell_type": "markdown",
   "metadata": {},
   "source": [
    "## Attempt 3: Multithreads Racing"
   ]
  },
  {
   "cell_type": "markdown",
   "metadata": {},
   "source": [
    "From [Wikipedia](https://en.wikipedia.org/wiki/Thread_safety):\n",
    "_\"Thread safe: Implementation is guaranteed to be free of race conditions when accessed by multiple threads simultaneously\"_\n",
    "\n",
    "In Python, there is a Global Interpreter Lock(GIL) that gives a lot of stability in Python programs by allowing only one thread at a time to operate on the interpreter. Still the GIL can be passed between threads if no other lock is held. ([More on GIL & Multithreading](https://tenthousandmeters.com/blog/python-behind-the-scenes-13-the-gil-and-its-effects-on-python-multithreading/))\n",
    "\n",
    "Note: Multiprocessing is not limited by the GIL, because different interpreters are spawned, but we won't talk about this in this post. because it is only possible to share states and not _instances of any class_ between processes, it becomes really convoluted trying to enforce the singleton pattern.\n",
    "\n",
    "So, If we instantiate the same Class on multiple Threads, it is possible that one or more threads reads nearly the same time that no instance has been created:\n",
    "\n",
    "```python\n",
    "class Singleton(type):\n",
    "    _instances = {}\n",
    "\n",
    "    def __call__(cls, *args, **kwargs):\n",
    "        # At the same moment, Thread B is checking the control-flow\n",
    "        # Since cls._instances is still empty, it will pass too\n",
    "        # and instantiate a second occurence of the class\n",
    "        # breaking the singleton\n",
    "        if cls not in cls._instances:\n",
    "            # Thread A just passed the control flow and starts\n",
    "            # instantiating but cls._instances is still empty\n",
    "            cls._instances[cls] = super().__call__(*args, **kwargs)\n",
    "        return cls._instances[cls]\n",
    "```\n",
    "\n",
    "To mitigate this, we introduce a **mutex**, called `Lock` that will be aquired by only one thread at a time. The `Lock` will be released after the instance creation and registration in `cls._instances`. This way another Thread could acquire it but surely with the register up-to-date:\n",
    "\n",
    "```python\n",
    "class SingletonThreadSafe(type):\n",
    "    _instances = {}\n",
    "    _lock = Lock()\n",
    "\n",
    "    def __call__(cls, *args, **kwargs):\n",
    "        # Thread B is waiting here\n",
    "        with cls._lock:\n",
    "            if cls not in cls._instances:\n",
    "                # Thread A acquired the Lock, passed the control-flow\n",
    "                # and now is instantiating the object and registering it\n",
    "                # to cls._instances\n",
    "                cls._instances[cls] = super().__call__(*args, **kwargs)\n",
    "        # Thread A releases the Lock. Then Thread B acquires it\n",
    "        # but won't pass the control-flow, since an instance\n",
    "        # has already been registered. It will return the existing one\n",
    "        return cls._instances[cls]\n",
    "```"
   ]
  },
  {
   "cell_type": "markdown",
   "metadata": {},
   "source": [
    "Let's check with the following script our claims:"
   ]
  },
  {
   "cell_type": "code",
   "execution_count": 289,
   "metadata": {},
   "outputs": [
    {
     "name": "stdout",
     "output_type": "stream",
     "text": [
      "Overwriting thread_safety_test.py\n"
     ]
    }
   ],
   "source": [
    "%%writefile thread_safety_test.py\n",
    "\n",
    "from multiprocessing.dummy import Pool as ThreadPool\n",
    "from threading import get_ident, Lock\n",
    "\n",
    "\n",
    "class Singleton(type):\n",
    "    _instances = {}\n",
    "\n",
    "    def __call__(cls, *args, **kwargs):\n",
    "        if cls not in cls._instances:\n",
    "            cls._instances[cls] = super().__call__(*args, **kwargs)\n",
    "        return cls._instances[cls]\n",
    "\n",
    "\n",
    "class SingletonThreadSafe(type):\n",
    "    _instances = {}\n",
    "    _lock = Lock()\n",
    "\n",
    "    def __call__(cls, *args, **kwargs):\n",
    "        with cls._lock:\n",
    "            if cls not in cls._instances:\n",
    "                cls._instances[cls] = super().__call__(*args, **kwargs)\n",
    "        return cls._instances[cls]\n",
    "\n",
    "\n",
    "class LoggerBase: \n",
    "    def __init__(self, *args, **kwargs):\n",
    "        super().__init__(*args, **kwargs)\n",
    "        print(f\"\\nInstantiated {self.__class__.__name__} in thread {get_ident()}\")\n",
    "\n",
    "class Logger(LoggerBase, metaclass=Singleton): pass\n",
    "class LoggerThreadSafe(LoggerBase, metaclass=SingletonThreadSafe): pass\n",
    "\n",
    "\n",
    "def execute(LoggerClass: LoggerBase) -> None:\n",
    "    \"\"\"Try to instantiate LoggerClass on multiple Threads multiple times\"\"\"\n",
    "    with ThreadPool(7) as pool:\n",
    "        [pool.apply_async(LoggerClass) for _ in range(100)]\n",
    "        pool.close()\n",
    "        pool.join()\n",
    "\n",
    "if __name__ == \"__main__\":\n",
    "    execute(Logger)\n",
    "    print(\"-\" * 30)\n",
    "    execute(LoggerThreadSafe)"
   ]
  },
  {
   "cell_type": "code",
   "execution_count": 273,
   "metadata": {},
   "outputs": [
    {
     "name": "stdout",
     "output_type": "stream",
     "text": [
      "\n",
      "Instantiated Logger in thread 22300\n",
      "Instantiated Logger in thread 8128\n",
      "Instantiated Logger in thread 23812\n",
      "\n",
      "\n",
      "------------------------------\n",
      "\n",
      "Instantiated LoggerThreadSafe in thread 16288\n"
     ]
    }
   ],
   "source": [
    "!python thread_safety_test.py"
   ]
  },
  {
   "cell_type": "markdown",
   "metadata": {},
   "source": [
    "Yes, we found a version for the singleton that is Thread-safe. \n",
    "\n",
    "In multithreading, most of the time, the instance will already be registered. For efficiency and minimizing race condition, instead of Looking Before You Leap(LBYL), we may find it Easier to Ask for Forgiveness than Permission (EAFP). Trying to directly return the instance should be quicker than checking first if it is available:\n",
    "\n",
    "```python\n",
    "class SingletonThreadSafe(type):\n",
    "    _instances = {}\n",
    "    _lock = Lock()\n",
    "\n",
    "    def __call__(cls, *args, **kwargs):\n",
    "        with cls._lock:\n",
    "            # Let's try to return the instance\n",
    "            try:\n",
    "                return cls._instances[cls]\n",
    "            except KeyError:\n",
    "                # if not available, ok, let's create it\n",
    "                cls._instances[cls] = super().__call__(*args, **kwargs)\n",
    "                return cls._instances[cls]\n",
    "```"
   ]
  },
  {
   "cell_type": "markdown",
   "metadata": {},
   "source": [
    "## Attempt 4: Multithreads Deadlocking "
   ]
  },
  {
   "cell_type": "markdown",
   "metadata": {},
   "source": [
    "From [Wikipedia](https://en.wikipedia.org/wiki/Deadlock): _In concurrent computing, **deadlock** is any situation in which no member of some group of entities can proceed because each waits for another member, including itself, to take action, such as sending a message or, more commonly, releasing a lock._\n",
    "\n",
    "What would happen if we define two singletons that are connected together ?\n",
    "\n",
    "So far, we instantiated the `Lock` within the metaclass:\n",
    "\n",
    "```python\n",
    "class SingletonThreadSafe(type):\n",
    "    _instances = {}\n",
    "    _lock = Lock()\n",
    "    ...\n",
    "```\n",
    "\n",
    "Then the same `Lock` is shared between classes. If at least two of these classes are also coupled in their initlization, we would have a deadlock, and the program will loop undefinitely, like in the following example:"
   ]
  },
  {
   "cell_type": "code",
   "execution_count": 286,
   "metadata": {},
   "outputs": [
    {
     "name": "stdout",
     "output_type": "stream",
     "text": [
      "Logger is a Singleton\n"
     ]
    }
   ],
   "source": [
    "class Logger(metaclass=SingletonThreadSafe): pass\n",
    "        \n",
    "class DBConnection(metaclass=SingletonThreadSafe):\n",
    "    def __init__(self):\n",
    "        # When we initialize DBConnection, we also instantiate\n",
    "        # a logger, but the lock will never be released since\n",
    "        # DBConnection already aqcuired it\n",
    "        self.logger = Logger()\n",
    "\n",
    "is_singleton(Logger)\n",
    "# is_singleton(DBConnection) # will deadlock "
   ]
  },
  {
   "cell_type": "code",
   "execution_count": 297,
   "metadata": {},
   "outputs": [],
   "source": [
    "class SingletonDeadlockFree(type):\n",
    "    \"\"\"Each class using this Singleton metaclass has its own Lock,\n",
    "    preventing them from deadlock\"\"\"\n",
    "\n",
    "    def __new__(metacls, cls, bases, clsdict, *args, **kwargs):\n",
    "        \"\"\"The lock is set at class definition to avoid deadlocking between coupled classes\"\"\"\n",
    "        cls_with_lock = super().__new__(metacls, cls, bases, clsdict)\n",
    "        cls_with_lock._lock = Lock()\n",
    "        return cls_with_lock\n",
    "\n",
    "    def __call__(cls, *args, **kwargs):\n",
    "        with cls._lock:\n",
    "            if cls not in cls._instances:\n",
    "                cls._instances[cls] = super().__call__(*args, **kwargs)\n",
    "        return cls._instances[cls]"
   ]
  },
  {
   "cell_type": "markdown",
   "metadata": {},
   "source": [
    "Let's check if that works:"
   ]
  },
  {
   "cell_type": "code",
   "execution_count": 295,
   "metadata": {},
   "outputs": [
    {
     "name": "stdout",
     "output_type": "stream",
     "text": [
      "Logger is a Singleton\n",
      "DBConnection is a Singleton\n"
     ]
    }
   ],
   "source": [
    "class Logger(metaclass=SingletonDeadlockFree): pass\n",
    "        \n",
    "class DBConnection(metaclass=SingletonDeadlockFree):\n",
    "    def __init__(self):\n",
    "        self.logger = Logger()\n",
    "\n",
    "is_singleton(Logger)\n",
    "is_singleton(DBConnection)"
   ]
  },
  {
   "attachments": {},
   "cell_type": "markdown",
   "metadata": {},
   "source": [
    "## Conclusion\n",
    "\n",
    "On the path to designing the purest singleton we could, we reviewed how Python handles instantiation in its world of \"everything is object\". We saw how inheritance could perturb instantiation and how metaclasses helped taking back control.\n",
    "\n",
    "We challenged our solution in multithreaded environments and learnt how to cope with _race conditions_ and _deadlocks_. It pushed us to dive a little further into metaclasses. After every attempt, our Singleton got more robust, our understanding of Instantiation got sharper."
   ]
  }
 ],
 "metadata": {
  "kernelspec": {
   "display_name": "py310",
   "language": "python",
   "name": "python3"
  },
  "language_info": {
   "codemirror_mode": {
    "name": "ipython",
    "version": 3
   },
   "file_extension": ".py",
   "mimetype": "text/x-python",
   "name": "python",
   "nbconvert_exporter": "python",
   "pygments_lexer": "ipython3",
   "version": "3.10.6"
  },
  "orig_nbformat": 4
 },
 "nbformat": 4,
 "nbformat_minor": 2
}
